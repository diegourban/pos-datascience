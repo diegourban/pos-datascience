{
  "nbformat": 4,
  "nbformat_minor": 0,
  "metadata": {
    "colab": {
      "name": "PCA.ipynb",
      "provenance": [],
      "collapsed_sections": [],
      "toc_visible": true
    },
    "kernelspec": {
      "name": "python3",
      "display_name": "Python 3"
    }
  },
  "cells": [
    {
      "cell_type": "markdown",
      "metadata": {
        "id": "s6RW1rLyOewr"
      },
      "source": [
        "# Trabalho Final - Aprendizado não supervisionado\n",
        "## Aluno: Diego Leonardo Urban"
      ]
    },
    {
      "cell_type": "markdown",
      "metadata": {
        "id": "wskM5mzqOgoi"
      },
      "source": [
        "## Importando as dependências"
      ]
    },
    {
      "cell_type": "code",
      "metadata": {
        "id": "Z9bwm_JNOKks"
      },
      "source": [
        "# Python\n",
        "import sys\n",
        "import random\n",
        "from os import listdir\n",
        "from os.path import isfile, join\n",
        "\n",
        "# Numpy\n",
        "import numpy as np\n",
        "\n",
        "# OpenCV\n",
        "import cv2\n",
        "from google.colab.patches import cv2_imshow"
      ],
      "execution_count": 1,
      "outputs": []
    },
    {
      "cell_type": "markdown",
      "metadata": {
        "id": "T_xzSdTsOy61"
      },
      "source": [
        "## Definição das Classes"
      ]
    },
    {
      "cell_type": "code",
      "metadata": {
        "id": "tVSApKdgMlzr"
      },
      "source": [
        "class Person():\n",
        "  \"\"\"Classe responsável por representar os dados de uma pessoa\"\"\"\n",
        "  \n",
        "  def __init__(self, id, label, data):\n",
        "    self.id = id\n",
        "    self.label = label\n",
        "    self.data = data"
      ],
      "execution_count": 2,
      "outputs": []
    },
    {
      "cell_type": "code",
      "metadata": {
        "id": "8d_wmmBwMxAF"
      },
      "source": [
        "class PCA():\n",
        "  \"\"\"Classe reponsável por realizar as operações de PCA\"\"\"\n",
        "\n",
        "  def __init__(self, path):\n",
        "    self.path = path\n",
        "\n",
        "  def image_data(self, filename):\n",
        "      img = cv2.imread(filename, cv2.IMREAD_GRAYSCALE)\n",
        "      \n",
        "      dsize = (80, 80)\n",
        "      output = cv2.resize(img, dsize)\n",
        "\n",
        "      dst = output.T.reshape((1, output.shape[1] * output.shape[0]))\n",
        "      return np.float64(dst)\n",
        "\n",
        "  def to_person(self, filename):\n",
        "    data_part = filename[filename.rfind('/')+1 :filename.rfind('.jpg')]\n",
        "    data = data_part.split('_')\n",
        "    return Person(int(data[0]), int(data[1]), self.image_data(filename))\n",
        "\n",
        "  def load_dataset(self, train, test, p):\n",
        "    onlyfiles = [self.path + \"/\" + f for f in listdir(self.path) if isfile(join(self.path, f)) if f.endswith('.jpg')]\n",
        "    people = list(map(self.to_person, onlyfiles))\n",
        "\n",
        "    people.sort(key=lambda x: x.id, reverse=True)\n",
        "\n",
        "    num_samples_per_person = 10\n",
        "    samples = []\n",
        "    for person in people:\n",
        "      samples.append(person)\n",
        "      if len(samples) == num_samples_per_person:\n",
        "        while len(samples) > p:\n",
        "          index = random.randint(0, len(samples)-1)          \n",
        "          test.append(samples.pop(index))\n",
        "\n",
        "        if p == num_samples_per_person:\n",
        "          test.extend(samples)\n",
        "\n",
        "        train.extend(samples)\n",
        "        samples = []\n",
        "\n",
        "  def main(self):\n",
        "    train = []\n",
        "    test = []\n",
        "    p = 7\n",
        "\n",
        "    self.load_dataset(train, test, p)\n",
        "\n",
        "    print(f\"-- Total de imagens: {len(train) + len(test)}\")\n",
        "    print(f\"-- Hold-out: {p * 10}%\")\n",
        "    print(f\"-- Total de treino: {len(train)}\")\n",
        "    print(f\"-- Total de teste: {len(test)}\")\n",
        "    print(\"------------------------------\")\n",
        "\n",
        "    start = 10\n",
        "    end = 20\n",
        "\n",
        "    MAX_REC = 3500\n",
        "    MAX_DIS = 1700\n",
        "\n",
        "    for k in range(start, end+1):\n",
        "      recognizer = cv2.face.EigenFaceRecognizer_create(k)\n",
        "      src = []\n",
        "      labels = []\n",
        "      for person_train in train:\n",
        "        src.append(person_train.data)\n",
        "        labels.append(person_train.label)\n",
        "\n",
        "      recognizer.train(src, np.asarray(labels))\n",
        "\n",
        "      min_distance = sys.float_info.max\n",
        "      max_distance = sys.float_info.min\n",
        "\n",
        "      true_negative_count = 0\n",
        "      true_positive_count = 0\n",
        "\n",
        "      corrects = 0\n",
        "\n",
        "      for person_test in test:\n",
        "        label, confidence = recognizer.predict(person_test.data)\n",
        "        \n",
        "        label_ok = label == person_test.label\n",
        "        if label_ok:\n",
        "          corrects = corrects + 1\n",
        "\n",
        "        if confidence > max_distance:\n",
        "          if not label_ok:\n",
        "            true_negative_count = true_negative_count + 1\n",
        "        elif confidence > 1500:\n",
        "          if not label_ok:\n",
        "            true_negative_count = true_negative_count + 1\n",
        "        elif label_ok:\n",
        "          true_positive_count = true_positive_count + 1\n",
        "\n",
        "        if label_ok and person_test.id <= 400:\n",
        "          if confidence < min_distance:\n",
        "            min_distance = confidence\n",
        "\n",
        "          if confidence > max_distance:\n",
        "            max_distance = confidence\n",
        "\n",
        "      trues = true_positive_count + true_negative_count\n",
        "      accuracy = trues / len(test) * 100\n",
        "      print(f\"{k} componentes principais, acurácia: {accuracy:.2f}%\")"
      ],
      "execution_count": 3,
      "outputs": []
    },
    {
      "cell_type": "markdown",
      "metadata": {
        "id": "u3siYW3APDxj"
      },
      "source": [
        "## Execução"
      ]
    },
    {
      "cell_type": "code",
      "metadata": {
        "colab": {
          "base_uri": "https://localhost:8080/"
        },
        "id": "IOQnP_9_M8nw",
        "outputId": "ca7a634e-03ac-473e-ea6a-ce6470900e4e"
      },
      "source": [
        "print(\"------------------------------\")\n",
        "print('-- Bem-vindo a ferramenta PCA!')\n",
        "print(\"------------------------------\")\n",
        "\n",
        "# TODO: Altere o path conforme necessidade\n",
        "#path = './'\n",
        "path = './resources/images'\n",
        "\n",
        "pca = PCA(path)\n",
        "pca.main()"
      ],
      "execution_count": 4,
      "outputs": [
        {
          "output_type": "stream",
          "text": [
            "------------------------------\n",
            "-- Bem-vindo a ferramenta PCA!\n",
            "------------------------------\n",
            "-- Total de imagens: 410\n",
            "-- Hold-out: 70%\n",
            "-- Total de treino: 287\n",
            "-- Total de teste: 123\n",
            "------------------------------\n",
            "10 componentes principais, acurácia: 88.62%\n",
            "11 componentes principais, acurácia: 87.80%\n",
            "12 componentes principais, acurácia: 88.62%\n",
            "13 componentes principais, acurácia: 87.80%\n",
            "14 componentes principais, acurácia: 86.99%\n",
            "15 componentes principais, acurácia: 88.62%\n",
            "16 componentes principais, acurácia: 89.43%\n",
            "17 componentes principais, acurácia: 86.99%\n",
            "18 componentes principais, acurácia: 86.18%\n",
            "19 componentes principais, acurácia: 87.80%\n",
            "20 componentes principais, acurácia: 88.62%\n"
          ],
          "name": "stdout"
        }
      ]
    }
  ]
}