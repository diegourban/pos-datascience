{
  "nbformat": 4,
  "nbformat_minor": 5,
  "metadata": {
    "kernelspec": {
      "display_name": "Python 3",
      "language": "python",
      "name": "python3"
    },
    "language_info": {
      "codemirror_mode": {
        "name": "ipython",
        "version": 3
      },
      "file_extension": ".py",
      "mimetype": "text/x-python",
      "name": "python",
      "nbconvert_exporter": "python",
      "pygments_lexer": "ipython3",
      "version": "3.8.7"
    },
    "colab": {
      "name": "Trabalho Deep Learning.ipynb",
      "provenance": [],
      "collapsed_sections": []
    }
  },
  "cells": [
    {
      "cell_type": "markdown",
      "metadata": {
        "id": "94471057"
      },
      "source": [
        "### Classificação de textos para análise de sentimentos\n",
        "\n",
        "Base de dados \n",
        "\n",
        "Instruções:\n",
        "- O objetivo deste trabalho é criar um modelo binário de aprendizado de máquina para classificação de textos. \n",
        "Para isso, será utilizado a base de dados [IMDb](http://ai.stanford.edu/~amaas/data/sentiment/), que consiste de dados textuais de críticas positivas e negativas de filmes\n",
        "- Uma vez treinado, o modelo deve ter uma função `predict` que recebe uma string como parâmetro e retorna o valor 1 ou 0, aonde 1 significa uma crítica positiva e 0 uma crítica negativa\n",
        "- O pré-processamento pode ser desenvolvidado conforme desejar (ex.: remoção de stopwords, word embedding, one-hot encoding, char encoding)\n",
        "- É preferível que seja empregado um modelo de recorrência (ex.: rnn, lstm, gru) para a etapa de classificação\n",
        "- Documente o código (explique sucintamente o que cada função faz, insira comentários em trechos de código relevantes)\n",
        "- **Atenção**: Uma vez treinado o modelo final, salve-o no diretório do seu projeto e crie uma célula ao final do notebook contendo uma função de leitura deste arquivo, juntamente com a execução da função `predict`\n",
        "\n",
        "Sugestões:\n",
        "- Explorar a base de dados nas células iniciais do notebook para ter um melhor entendimento do problema, distribuição dos dados, etc\n",
        "- Após desenvolver a estrutura de classificação, é indicado fazer uma busca de hiperparâmetros e comparar os resultados obtidos em diferentes situações\n",
        "\n",
        "Prazo de entrega:\n",
        "- 01-08-2021 às 23:59hs GMT-3\n",
        "\n",
        "Formato preferível de entrega:\n",
        "- Postar no portal Ava da disciplina o link do projeto no github (ou anexar o projeto diretamente no portal Ava)\n",
        "\n",
        "luann.porfirio@gmail.com"
      ],
      "id": "94471057"
    },
    {
      "cell_type": "markdown",
      "metadata": {
        "id": "i9Gy2Op0m-oa"
      },
      "source": [
        "### Import all libraries"
      ],
      "id": "i9Gy2Op0m-oa"
    },
    {
      "cell_type": "code",
      "metadata": {
        "id": "Qb8Scfc6m1V1"
      },
      "source": [
        "import re\n",
        "import nltk\n",
        "import numpy as np\n",
        "import pandas as pd\n",
        "\n",
        "from torchtext import datasets\n",
        "from sklearn.model_selection import train_test_split\n",
        "from tensorflow.keras.preprocessing.text import Tokenizer\n",
        "from tensorflow.keras.preprocessing.sequence import pad_sequences\n",
        "from tensorflow.keras.models import Sequential\n",
        "from tensorflow.keras.layers import Embedding, LSTM, Dense\n",
        "from tensorflow.keras.callbacks import EarlyStopping, ModelCheckpoint, TensorBoard\n",
        "from tensorflow.keras.models import load_model"
      ],
      "id": "Qb8Scfc6m1V1",
      "execution_count": 82,
      "outputs": []
    },
    {
      "cell_type": "markdown",
      "metadata": {
        "id": "VATFtnypnFj1"
      },
      "source": [
        "### Load dataset"
      ],
      "id": "VATFtnypnFj1"
    },
    {
      "cell_type": "code",
      "metadata": {
        "id": "M-5lm6mhmzZn"
      },
      "source": [
        "train_iter, test_iter = datasets.IMDB()\n",
        "dataset_imdb = list(train_iter + test_iter)\n",
        "df_imdb_raw = pd.DataFrame(data=dataset_imdb, columns=['sentiment', 'review'])"
      ],
      "id": "M-5lm6mhmzZn",
      "execution_count": 17,
      "outputs": []
    },
    {
      "cell_type": "markdown",
      "metadata": {
        "id": "c0U7UDebnYQr"
      },
      "source": [
        "### Inspect Dataset"
      ],
      "id": "c0U7UDebnYQr"
    },
    {
      "cell_type": "code",
      "metadata": {
        "id": "H49gWfzpnZvh",
        "outputId": "f5a18b3c-c34d-4da1-d907-d57861b2b044",
        "colab": {
          "base_uri": "https://localhost:8080/"
        }
      },
      "source": [
        "df_imdb_raw.shape"
      ],
      "id": "H49gWfzpnZvh",
      "execution_count": 4,
      "outputs": [
        {
          "output_type": "execute_result",
          "data": {
            "text/plain": [
              "(50000, 2)"
            ]
          },
          "metadata": {
            "tags": []
          },
          "execution_count": 4
        }
      ]
    },
    {
      "cell_type": "code",
      "metadata": {
        "id": "MkpT1uitneh4",
        "outputId": "cde1f744-28bb-47d7-9f42-85acdf4aeb34",
        "colab": {
          "base_uri": "https://localhost:8080/",
          "height": 206
        }
      },
      "source": [
        "df_imdb_raw.head()"
      ],
      "id": "MkpT1uitneh4",
      "execution_count": 5,
      "outputs": [
        {
          "output_type": "execute_result",
          "data": {
            "text/html": [
              "<div>\n",
              "<style scoped>\n",
              "    .dataframe tbody tr th:only-of-type {\n",
              "        vertical-align: middle;\n",
              "    }\n",
              "\n",
              "    .dataframe tbody tr th {\n",
              "        vertical-align: top;\n",
              "    }\n",
              "\n",
              "    .dataframe thead th {\n",
              "        text-align: right;\n",
              "    }\n",
              "</style>\n",
              "<table border=\"1\" class=\"dataframe\">\n",
              "  <thead>\n",
              "    <tr style=\"text-align: right;\">\n",
              "      <th></th>\n",
              "      <th>sentiment</th>\n",
              "      <th>review</th>\n",
              "    </tr>\n",
              "  </thead>\n",
              "  <tbody>\n",
              "    <tr>\n",
              "      <th>0</th>\n",
              "      <td>neg</td>\n",
              "      <td>I rented I AM CURIOUS-YELLOW from my video sto...</td>\n",
              "    </tr>\n",
              "    <tr>\n",
              "      <th>1</th>\n",
              "      <td>neg</td>\n",
              "      <td>\"I Am Curious: Yellow\" is a risible and preten...</td>\n",
              "    </tr>\n",
              "    <tr>\n",
              "      <th>2</th>\n",
              "      <td>neg</td>\n",
              "      <td>If only to avoid making this type of film in t...</td>\n",
              "    </tr>\n",
              "    <tr>\n",
              "      <th>3</th>\n",
              "      <td>neg</td>\n",
              "      <td>This film was probably inspired by Godard's Ma...</td>\n",
              "    </tr>\n",
              "    <tr>\n",
              "      <th>4</th>\n",
              "      <td>neg</td>\n",
              "      <td>Oh, brother...after hearing about this ridicul...</td>\n",
              "    </tr>\n",
              "  </tbody>\n",
              "</table>\n",
              "</div>"
            ],
            "text/plain": [
              "  sentiment                                             review\n",
              "0       neg  I rented I AM CURIOUS-YELLOW from my video sto...\n",
              "1       neg  \"I Am Curious: Yellow\" is a risible and preten...\n",
              "2       neg  If only to avoid making this type of film in t...\n",
              "3       neg  This film was probably inspired by Godard's Ma...\n",
              "4       neg  Oh, brother...after hearing about this ridicul..."
            ]
          },
          "metadata": {
            "tags": []
          },
          "execution_count": 5
        }
      ]
    },
    {
      "cell_type": "code",
      "metadata": {
        "id": "5ir8D-Bknhak",
        "outputId": "c6420c68-40c9-4d94-d6ce-a26f70550318",
        "colab": {
          "base_uri": "https://localhost:8080/"
        }
      },
      "source": [
        "df_imdb_raw.info()"
      ],
      "id": "5ir8D-Bknhak",
      "execution_count": 6,
      "outputs": [
        {
          "output_type": "stream",
          "text": [
            "<class 'pandas.core.frame.DataFrame'>\n",
            "RangeIndex: 50000 entries, 0 to 49999\n",
            "Data columns (total 2 columns):\n",
            " #   Column     Non-Null Count  Dtype \n",
            "---  ------     --------------  ----- \n",
            " 0   sentiment  50000 non-null  object\n",
            " 1   review     50000 non-null  object\n",
            "dtypes: object(2)\n",
            "memory usage: 781.4+ KB\n"
          ],
          "name": "stdout"
        }
      ]
    },
    {
      "cell_type": "code",
      "metadata": {
        "id": "A3icQlvcnkL0",
        "outputId": "903bb0d8-4cc1-4101-c8b1-13d9838914a9",
        "colab": {
          "base_uri": "https://localhost:8080/",
          "height": 175
        }
      },
      "source": [
        "df_imdb_raw.describe()"
      ],
      "id": "A3icQlvcnkL0",
      "execution_count": 7,
      "outputs": [
        {
          "output_type": "execute_result",
          "data": {
            "text/html": [
              "<div>\n",
              "<style scoped>\n",
              "    .dataframe tbody tr th:only-of-type {\n",
              "        vertical-align: middle;\n",
              "    }\n",
              "\n",
              "    .dataframe tbody tr th {\n",
              "        vertical-align: top;\n",
              "    }\n",
              "\n",
              "    .dataframe thead th {\n",
              "        text-align: right;\n",
              "    }\n",
              "</style>\n",
              "<table border=\"1\" class=\"dataframe\">\n",
              "  <thead>\n",
              "    <tr style=\"text-align: right;\">\n",
              "      <th></th>\n",
              "      <th>sentiment</th>\n",
              "      <th>review</th>\n",
              "    </tr>\n",
              "  </thead>\n",
              "  <tbody>\n",
              "    <tr>\n",
              "      <th>count</th>\n",
              "      <td>50000</td>\n",
              "      <td>50000</td>\n",
              "    </tr>\n",
              "    <tr>\n",
              "      <th>unique</th>\n",
              "      <td>2</td>\n",
              "      <td>49582</td>\n",
              "    </tr>\n",
              "    <tr>\n",
              "      <th>top</th>\n",
              "      <td>neg</td>\n",
              "      <td>Loved today's show!!! It was a variety and not...</td>\n",
              "    </tr>\n",
              "    <tr>\n",
              "      <th>freq</th>\n",
              "      <td>25000</td>\n",
              "      <td>5</td>\n",
              "    </tr>\n",
              "  </tbody>\n",
              "</table>\n",
              "</div>"
            ],
            "text/plain": [
              "       sentiment                                             review\n",
              "count      50000                                              50000\n",
              "unique         2                                              49582\n",
              "top          neg  Loved today's show!!! It was a variety and not...\n",
              "freq       25000                                                  5"
            ]
          },
          "metadata": {
            "tags": []
          },
          "execution_count": 7
        }
      ]
    },
    {
      "cell_type": "code",
      "metadata": {
        "id": "15HDxLXlnnOz",
        "outputId": "d33f7956-748c-42e3-a06b-0ef43197c6fa",
        "colab": {
          "base_uri": "https://localhost:8080/"
        }
      },
      "source": [
        "df_imdb_raw.nunique()"
      ],
      "id": "15HDxLXlnnOz",
      "execution_count": 8,
      "outputs": [
        {
          "output_type": "execute_result",
          "data": {
            "text/plain": [
              "sentiment        2\n",
              "review       49582\n",
              "dtype: int64"
            ]
          },
          "metadata": {
            "tags": []
          },
          "execution_count": 8
        }
      ]
    },
    {
      "cell_type": "code",
      "metadata": {
        "id": "JsMFugKunt7K",
        "outputId": "0ccfcf83-5ad1-4455-fe2a-ace5a6570f0f",
        "colab": {
          "base_uri": "https://localhost:8080/",
          "height": 206
        }
      },
      "source": [
        "df_imdb_raw.head()"
      ],
      "id": "JsMFugKunt7K",
      "execution_count": 9,
      "outputs": [
        {
          "output_type": "execute_result",
          "data": {
            "text/html": [
              "<div>\n",
              "<style scoped>\n",
              "    .dataframe tbody tr th:only-of-type {\n",
              "        vertical-align: middle;\n",
              "    }\n",
              "\n",
              "    .dataframe tbody tr th {\n",
              "        vertical-align: top;\n",
              "    }\n",
              "\n",
              "    .dataframe thead th {\n",
              "        text-align: right;\n",
              "    }\n",
              "</style>\n",
              "<table border=\"1\" class=\"dataframe\">\n",
              "  <thead>\n",
              "    <tr style=\"text-align: right;\">\n",
              "      <th></th>\n",
              "      <th>sentiment</th>\n",
              "      <th>review</th>\n",
              "    </tr>\n",
              "  </thead>\n",
              "  <tbody>\n",
              "    <tr>\n",
              "      <th>0</th>\n",
              "      <td>neg</td>\n",
              "      <td>I rented I AM CURIOUS-YELLOW from my video sto...</td>\n",
              "    </tr>\n",
              "    <tr>\n",
              "      <th>1</th>\n",
              "      <td>neg</td>\n",
              "      <td>\"I Am Curious: Yellow\" is a risible and preten...</td>\n",
              "    </tr>\n",
              "    <tr>\n",
              "      <th>2</th>\n",
              "      <td>neg</td>\n",
              "      <td>If only to avoid making this type of film in t...</td>\n",
              "    </tr>\n",
              "    <tr>\n",
              "      <th>3</th>\n",
              "      <td>neg</td>\n",
              "      <td>This film was probably inspired by Godard's Ma...</td>\n",
              "    </tr>\n",
              "    <tr>\n",
              "      <th>4</th>\n",
              "      <td>neg</td>\n",
              "      <td>Oh, brother...after hearing about this ridicul...</td>\n",
              "    </tr>\n",
              "  </tbody>\n",
              "</table>\n",
              "</div>"
            ],
            "text/plain": [
              "  sentiment                                             review\n",
              "0       neg  I rented I AM CURIOUS-YELLOW from my video sto...\n",
              "1       neg  \"I Am Curious: Yellow\" is a risible and preten...\n",
              "2       neg  If only to avoid making this type of film in t...\n",
              "3       neg  This film was probably inspired by Godard's Ma...\n",
              "4       neg  Oh, brother...after hearing about this ridicul..."
            ]
          },
          "metadata": {
            "tags": []
          },
          "execution_count": 9
        }
      ]
    },
    {
      "cell_type": "code",
      "metadata": {
        "id": "BJ7vngopnuBC",
        "outputId": "c0112814-67cc-4683-be2e-55d764d4a7f8",
        "colab": {
          "base_uri": "https://localhost:8080/",
          "height": 206
        }
      },
      "source": [
        "df_imdb_raw.tail()"
      ],
      "id": "BJ7vngopnuBC",
      "execution_count": 10,
      "outputs": [
        {
          "output_type": "execute_result",
          "data": {
            "text/html": [
              "<div>\n",
              "<style scoped>\n",
              "    .dataframe tbody tr th:only-of-type {\n",
              "        vertical-align: middle;\n",
              "    }\n",
              "\n",
              "    .dataframe tbody tr th {\n",
              "        vertical-align: top;\n",
              "    }\n",
              "\n",
              "    .dataframe thead th {\n",
              "        text-align: right;\n",
              "    }\n",
              "</style>\n",
              "<table border=\"1\" class=\"dataframe\">\n",
              "  <thead>\n",
              "    <tr style=\"text-align: right;\">\n",
              "      <th></th>\n",
              "      <th>sentiment</th>\n",
              "      <th>review</th>\n",
              "    </tr>\n",
              "  </thead>\n",
              "  <tbody>\n",
              "    <tr>\n",
              "      <th>49995</th>\n",
              "      <td>pos</td>\n",
              "      <td>Just got around to seeing Monster Man yesterda...</td>\n",
              "    </tr>\n",
              "    <tr>\n",
              "      <th>49996</th>\n",
              "      <td>pos</td>\n",
              "      <td>I got this as part of a competition prize. I w...</td>\n",
              "    </tr>\n",
              "    <tr>\n",
              "      <th>49997</th>\n",
              "      <td>pos</td>\n",
              "      <td>I got Monster Man in a box set of three films ...</td>\n",
              "    </tr>\n",
              "    <tr>\n",
              "      <th>49998</th>\n",
              "      <td>pos</td>\n",
              "      <td>Five minutes in, i started to feel how naff th...</td>\n",
              "    </tr>\n",
              "    <tr>\n",
              "      <th>49999</th>\n",
              "      <td>pos</td>\n",
              "      <td>I caught this movie on the Sci-Fi channel rece...</td>\n",
              "    </tr>\n",
              "  </tbody>\n",
              "</table>\n",
              "</div>"
            ],
            "text/plain": [
              "      sentiment                                             review\n",
              "49995       pos  Just got around to seeing Monster Man yesterda...\n",
              "49996       pos  I got this as part of a competition prize. I w...\n",
              "49997       pos  I got Monster Man in a box set of three films ...\n",
              "49998       pos  Five minutes in, i started to feel how naff th...\n",
              "49999       pos  I caught this movie on the Sci-Fi channel rece..."
            ]
          },
          "metadata": {
            "tags": []
          },
          "execution_count": 10
        }
      ]
    },
    {
      "cell_type": "code",
      "metadata": {
        "id": "E6LL5p7RnuEF",
        "outputId": "30187154-5423-4034-fdf8-a225d0b8da6f",
        "colab": {
          "base_uri": "https://localhost:8080/",
          "height": 424
        }
      },
      "source": [
        "df_imdb_raw[df_imdb_raw.duplicated()]"
      ],
      "id": "E6LL5p7RnuEF",
      "execution_count": 11,
      "outputs": [
        {
          "output_type": "execute_result",
          "data": {
            "text/html": [
              "<div>\n",
              "<style scoped>\n",
              "    .dataframe tbody tr th:only-of-type {\n",
              "        vertical-align: middle;\n",
              "    }\n",
              "\n",
              "    .dataframe tbody tr th {\n",
              "        vertical-align: top;\n",
              "    }\n",
              "\n",
              "    .dataframe thead th {\n",
              "        text-align: right;\n",
              "    }\n",
              "</style>\n",
              "<table border=\"1\" class=\"dataframe\">\n",
              "  <thead>\n",
              "    <tr style=\"text-align: right;\">\n",
              "      <th></th>\n",
              "      <th>sentiment</th>\n",
              "      <th>review</th>\n",
              "    </tr>\n",
              "  </thead>\n",
              "  <tbody>\n",
              "    <tr>\n",
              "      <th>168</th>\n",
              "      <td>neg</td>\n",
              "      <td>I am not so much like Love Sick as I image. Fi...</td>\n",
              "    </tr>\n",
              "    <tr>\n",
              "      <th>664</th>\n",
              "      <td>neg</td>\n",
              "      <td>Holy freaking God all-freaking-mighty. This mo...</td>\n",
              "    </tr>\n",
              "    <tr>\n",
              "      <th>701</th>\n",
              "      <td>neg</td>\n",
              "      <td>The story and the show were good, but it was r...</td>\n",
              "    </tr>\n",
              "    <tr>\n",
              "      <th>3070</th>\n",
              "      <td>neg</td>\n",
              "      <td>I watched this movie when Joe Bob Briggs hoste...</td>\n",
              "    </tr>\n",
              "    <tr>\n",
              "      <th>3591</th>\n",
              "      <td>neg</td>\n",
              "      <td>I like Chris Rock, but I feel he is wasted in ...</td>\n",
              "    </tr>\n",
              "    <tr>\n",
              "      <th>...</th>\n",
              "      <td>...</td>\n",
              "      <td>...</td>\n",
              "    </tr>\n",
              "    <tr>\n",
              "      <th>49911</th>\n",
              "      <td>pos</td>\n",
              "      <td>I watched Pola X because Scott Walker composed...</td>\n",
              "    </tr>\n",
              "    <tr>\n",
              "      <th>49912</th>\n",
              "      <td>pos</td>\n",
              "      <td>Leos Carax has made 3 great movies: Boys Meet ...</td>\n",
              "    </tr>\n",
              "    <tr>\n",
              "      <th>49913</th>\n",
              "      <td>pos</td>\n",
              "      <td>Leos Carax is brilliant and is one of the best...</td>\n",
              "    </tr>\n",
              "    <tr>\n",
              "      <th>49914</th>\n",
              "      <td>pos</td>\n",
              "      <td>I've tried to reconcile why so many bad review...</td>\n",
              "    </tr>\n",
              "    <tr>\n",
              "      <th>49962</th>\n",
              "      <td>pos</td>\n",
              "      <td>I have seen most of the Tarzan episodes. Certa...</td>\n",
              "    </tr>\n",
              "  </tbody>\n",
              "</table>\n",
              "<p>418 rows × 2 columns</p>\n",
              "</div>"
            ],
            "text/plain": [
              "      sentiment                                             review\n",
              "168         neg  I am not so much like Love Sick as I image. Fi...\n",
              "664         neg  Holy freaking God all-freaking-mighty. This mo...\n",
              "701         neg  The story and the show were good, but it was r...\n",
              "3070        neg  I watched this movie when Joe Bob Briggs hoste...\n",
              "3591        neg  I like Chris Rock, but I feel he is wasted in ...\n",
              "...         ...                                                ...\n",
              "49911       pos  I watched Pola X because Scott Walker composed...\n",
              "49912       pos  Leos Carax has made 3 great movies: Boys Meet ...\n",
              "49913       pos  Leos Carax is brilliant and is one of the best...\n",
              "49914       pos  I've tried to reconcile why so many bad review...\n",
              "49962       pos  I have seen most of the Tarzan episodes. Certa...\n",
              "\n",
              "[418 rows x 2 columns]"
            ]
          },
          "metadata": {
            "tags": []
          },
          "execution_count": 11
        }
      ]
    },
    {
      "cell_type": "markdown",
      "metadata": {
        "id": "9S30kDKFn6bC"
      },
      "source": [
        "Necessário remover stopwords, caracteres que não são alfabeto e transformar para lowercase.\n",
        "\n",
        "Há também casos duplicados.\n"
      ],
      "id": "9S30kDKFn6bC"
    },
    {
      "cell_type": "markdown",
      "metadata": {
        "id": "aFowI-Min_7F"
      },
      "source": [
        "### Clean Dataset"
      ],
      "id": "aFowI-Min_7F"
    },
    {
      "cell_type": "code",
      "metadata": {
        "id": "ou1VWI3kzOnz"
      },
      "source": [
        "df_cleaned = df_imdb_raw.drop_duplicates()"
      ],
      "id": "ou1VWI3kzOnz",
      "execution_count": 18,
      "outputs": []
    },
    {
      "cell_type": "code",
      "metadata": {
        "colab": {
          "base_uri": "https://localhost:8080/",
          "height": 175
        },
        "id": "6Qiax8U6cwJi",
        "outputId": "055afecf-e6eb-4f71-f330-7362094b14d2"
      },
      "source": [
        "df_cleaned.describe()"
      ],
      "id": "6Qiax8U6cwJi",
      "execution_count": 19,
      "outputs": [
        {
          "output_type": "execute_result",
          "data": {
            "text/html": [
              "<div>\n",
              "<style scoped>\n",
              "    .dataframe tbody tr th:only-of-type {\n",
              "        vertical-align: middle;\n",
              "    }\n",
              "\n",
              "    .dataframe tbody tr th {\n",
              "        vertical-align: top;\n",
              "    }\n",
              "\n",
              "    .dataframe thead th {\n",
              "        text-align: right;\n",
              "    }\n",
              "</style>\n",
              "<table border=\"1\" class=\"dataframe\">\n",
              "  <thead>\n",
              "    <tr style=\"text-align: right;\">\n",
              "      <th></th>\n",
              "      <th>sentiment</th>\n",
              "      <th>review</th>\n",
              "    </tr>\n",
              "  </thead>\n",
              "  <tbody>\n",
              "    <tr>\n",
              "      <th>count</th>\n",
              "      <td>49582</td>\n",
              "      <td>49582</td>\n",
              "    </tr>\n",
              "    <tr>\n",
              "      <th>unique</th>\n",
              "      <td>2</td>\n",
              "      <td>49582</td>\n",
              "    </tr>\n",
              "    <tr>\n",
              "      <th>top</th>\n",
              "      <td>pos</td>\n",
              "      <td>OK... so... I really like Kris Kristofferson a...</td>\n",
              "    </tr>\n",
              "    <tr>\n",
              "      <th>freq</th>\n",
              "      <td>24884</td>\n",
              "      <td>1</td>\n",
              "    </tr>\n",
              "  </tbody>\n",
              "</table>\n",
              "</div>"
            ],
            "text/plain": [
              "       sentiment                                             review\n",
              "count      49582                                              49582\n",
              "unique         2                                              49582\n",
              "top          pos  OK... so... I really like Kris Kristofferson a...\n",
              "freq       24884                                                  1"
            ]
          },
          "metadata": {
            "tags": []
          },
          "execution_count": 19
        }
      ]
    },
    {
      "cell_type": "code",
      "metadata": {
        "id": "cxURGahE2xrA",
        "colab": {
          "base_uri": "https://localhost:8080/"
        },
        "outputId": "73cbce71-2981-4666-c892-2c40f4e48cb8"
      },
      "source": [
        "nltk.download('stopwords')\n",
        "english_stops = set(nltk.corpus.stopwords.words('english'))"
      ],
      "id": "cxURGahE2xrA",
      "execution_count": 20,
      "outputs": [
        {
          "output_type": "stream",
          "text": [
            "[nltk_data] Downloading package stopwords to /root/nltk_data...\n",
            "[nltk_data]   Package stopwords is already up-to-date!\n"
          ],
          "name": "stdout"
        }
      ]
    },
    {
      "cell_type": "code",
      "metadata": {
        "id": "L_ZPLutKqe8p"
      },
      "source": [
        "X, y = df_imdb_raw['review'],df_imdb_raw['sentiment']"
      ],
      "id": "L_ZPLutKqe8p",
      "execution_count": 26,
      "outputs": []
    },
    {
      "cell_type": "code",
      "metadata": {
        "id": "6b0o0rcFo40-"
      },
      "source": [
        "X = X.replace({'<.*?>': ''}, regex = True)\n",
        "X = X.replace({'[^A-Za-z]': ' '}, regex = True)\n",
        "X = X.apply(lambda review: [w for w in review.split() if w not in english_stops])\n",
        "X = X.apply(lambda review: [w.lower() for w in review])"
      ],
      "id": "6b0o0rcFo40-",
      "execution_count": 27,
      "outputs": []
    },
    {
      "cell_type": "code",
      "metadata": {
        "id": "XUiC_gezq0h9"
      },
      "source": [
        "y = y.replace('pos', 1)\n",
        "y = y.replace('neg', 0)"
      ],
      "id": "XUiC_gezq0h9",
      "execution_count": 28,
      "outputs": []
    },
    {
      "cell_type": "code",
      "metadata": {
        "id": "ymgwlBBlrDhP"
      },
      "source": [
        "x_train, x_test, y_train, y_test = train_test_split(X, y, test_size = 0.3)"
      ],
      "id": "ymgwlBBlrDhP",
      "execution_count": 31,
      "outputs": []
    },
    {
      "cell_type": "code",
      "metadata": {
        "id": "8BuihIisrn66"
      },
      "source": [
        "def get_max_length():\n",
        "    review_length = []\n",
        "    for review in x_train:\n",
        "        review_length.append(len(review))\n",
        "\n",
        "    return int(np.ceil(np.mean(review_length)))"
      ],
      "id": "8BuihIisrn66",
      "execution_count": 32,
      "outputs": []
    },
    {
      "cell_type": "code",
      "metadata": {
        "id": "d0l-OZ3MrqWK",
        "outputId": "718683b9-bf4c-45d0-8e37-275bcfb47fe0",
        "colab": {
          "base_uri": "https://localhost:8080/"
        }
      },
      "source": [
        "# ENCODE REVIEW\n",
        "token = Tokenizer(lower=False)\n",
        "token.fit_on_texts(x_train)\n",
        "x_train = token.texts_to_sequences(x_train)\n",
        "x_test = token.texts_to_sequences(x_test)\n",
        "\n",
        "max_length = get_max_length()\n",
        "\n",
        "x_train = pad_sequences(x_train, maxlen=max_length, padding='post', truncating='post')\n",
        "x_test = pad_sequences(x_test, maxlen=max_length, padding='post', truncating='post')\n",
        "\n",
        "total_words = len(token.word_index) + 1   # add 1 because of 0 padding\n",
        "\n",
        "print('Encoded X Train\\n', x_train, '\\n')\n",
        "print('Encoded X Test\\n', x_test, '\\n')\n",
        "print('Maximum review length: ', max_length)"
      ],
      "id": "d0l-OZ3MrqWK",
      "execution_count": 37,
      "outputs": [
        {
          "output_type": "stream",
          "text": [
            "Encoded X Train\n",
            " [[   55    27  2695 ...     0     0     0]\n",
            " [    8     3   183 ...   133   250 28352]\n",
            " [  105   457  1127 ...     0     0     0]\n",
            " ...\n",
            " [    2  9488  3360 ...     0     0     0]\n",
            " [  378   226   269 ...  6742   444  1257]\n",
            " [   39   689   338 ...   142  1285     0]] \n",
            "\n",
            "Encoded X Test\n",
            " [[   39  1733   514 ...     0     0     0]\n",
            " [  172  6195   334 ...     0     0     0]\n",
            " [    8     5    92 ...     0     0     0]\n",
            " ...\n",
            " [ 5286    46     3 ...     0     0     0]\n",
            " [    1   297  3586 ...     0     0     0]\n",
            " [    1   465 27807 ...     0     0     0]] \n",
            "\n",
            "Maximum review length:  130\n"
          ],
          "name": "stdout"
        }
      ]
    },
    {
      "cell_type": "markdown",
      "metadata": {
        "id": "zgGnqC3M0DLi"
      },
      "source": [
        "### Build Architecture"
      ],
      "id": "zgGnqC3M0DLi"
    },
    {
      "cell_type": "code",
      "metadata": {
        "id": "dUsKQHB2sDiD",
        "outputId": "d38bedf9-46bc-43ad-bf9c-0e6302d3cf1a",
        "colab": {
          "base_uri": "https://localhost:8080/"
        }
      },
      "source": [
        "# ARCHITECTURE\n",
        "EMBED_DIM = 32\n",
        "LSTM_OUT = 64\n",
        "\n",
        "model = Sequential()\n",
        "model.add(Embedding(total_words, EMBED_DIM, input_length = max_length))\n",
        "model.add(LSTM(LSTM_OUT))\n",
        "model.add(Dense(1, activation='sigmoid'))\n",
        "model.compile(optimizer = 'adam', loss = 'binary_crossentropy', metrics = ['accuracy'])\n",
        "\n",
        "print(model.summary())"
      ],
      "id": "dUsKQHB2sDiD",
      "execution_count": 71,
      "outputs": [
        {
          "output_type": "stream",
          "text": [
            "Model: \"sequential_7\"\n",
            "_________________________________________________________________\n",
            "Layer (type)                 Output Shape              Param #   \n",
            "=================================================================\n",
            "embedding_7 (Embedding)      (None, 130, 32)           2801248   \n",
            "_________________________________________________________________\n",
            "lstm_7 (LSTM)                (None, 64)                24832     \n",
            "_________________________________________________________________\n",
            "dense_7 (Dense)              (None, 1)                 65        \n",
            "=================================================================\n",
            "Total params: 2,826,145\n",
            "Trainable params: 2,826,145\n",
            "Non-trainable params: 0\n",
            "_________________________________________________________________\n",
            "None\n"
          ],
          "name": "stdout"
        }
      ]
    },
    {
      "cell_type": "markdown",
      "metadata": {
        "id": "2Ckt3kYc0LQp"
      },
      "source": [
        "### Train"
      ],
      "id": "2Ckt3kYc0LQp"
    },
    {
      "cell_type": "code",
      "metadata": {
        "id": "zkxGlqFfsT6k"
      },
      "source": [
        "early_stop = EarlyStopping(\n",
        "    monitor=\"loss\",\n",
        "    patience=2\n",
        ")\n",
        "\n",
        "checkpoint = ModelCheckpoint(\n",
        "    'models/imdb.{epoch:03d}-{loss:.4f}-{accuracy:.4f}.hdf5',\n",
        "    monitor='accuracy',\n",
        "    save_best_only=True,\n",
        "    verbose=1\n",
        ")\n",
        "\n",
        "logs = TensorBoard(log_dir='./logs')\n",
        "\n",
        "callbacks = [ early_stop, checkpoint, logs ]"
      ],
      "id": "zkxGlqFfsT6k",
      "execution_count": 72,
      "outputs": []
    },
    {
      "cell_type": "code",
      "metadata": {
        "id": "eW5sjmz4sneF",
        "outputId": "71bb7a20-fb26-497d-cc7f-cc0733498774",
        "colab": {
          "base_uri": "https://localhost:8080/"
        }
      },
      "source": [
        "EPOCHS = 10\n",
        "\n",
        "model.fit(x_train, y_train, batch_size = 128, epochs = EPOCHS, callbacks=callbacks)"
      ],
      "id": "eW5sjmz4sneF",
      "execution_count": 74,
      "outputs": [
        {
          "output_type": "stream",
          "text": [
            "Epoch 1/10\n",
            "274/274 [==============================] - 53s 182ms/step - loss: 0.4683 - accuracy: 0.7481\n"
          ],
          "name": "stdout"
        },
        {
          "output_type": "stream",
          "text": [
            "WARNING:tensorflow:Early stopping conditioned on metric `val_loss` which is not available. Available metrics are: loss,accuracy\n"
          ],
          "name": "stderr"
        },
        {
          "output_type": "stream",
          "text": [
            "\n",
            "Epoch 00001: accuracy improved from -inf to 0.74814, saving model to models/imdb.001-0.7481.hdf5\n",
            "Epoch 2/10\n",
            "274/274 [==============================] - 50s 181ms/step - loss: 0.2150 - accuracy: 0.9235\n"
          ],
          "name": "stdout"
        },
        {
          "output_type": "stream",
          "text": [
            "WARNING:tensorflow:Early stopping conditioned on metric `val_loss` which is not available. Available metrics are: loss,accuracy\n"
          ],
          "name": "stderr"
        },
        {
          "output_type": "stream",
          "text": [
            "\n",
            "Epoch 00002: accuracy improved from 0.74814 to 0.92354, saving model to models/imdb.002-0.9235.hdf5\n",
            "Epoch 3/10\n",
            "274/274 [==============================] - 50s 181ms/step - loss: 0.1244 - accuracy: 0.9619\n"
          ],
          "name": "stdout"
        },
        {
          "output_type": "stream",
          "text": [
            "WARNING:tensorflow:Early stopping conditioned on metric `val_loss` which is not available. Available metrics are: loss,accuracy\n"
          ],
          "name": "stderr"
        },
        {
          "output_type": "stream",
          "text": [
            "\n",
            "Epoch 00003: accuracy improved from 0.92354 to 0.96189, saving model to models/imdb.003-0.9619.hdf5\n",
            "Epoch 4/10\n",
            "274/274 [==============================] - 50s 182ms/step - loss: 0.0775 - accuracy: 0.9784\n"
          ],
          "name": "stdout"
        },
        {
          "output_type": "stream",
          "text": [
            "WARNING:tensorflow:Early stopping conditioned on metric `val_loss` which is not available. Available metrics are: loss,accuracy\n"
          ],
          "name": "stderr"
        },
        {
          "output_type": "stream",
          "text": [
            "\n",
            "Epoch 00004: accuracy improved from 0.96189 to 0.97837, saving model to models/imdb.004-0.9784.hdf5\n",
            "Epoch 5/10\n",
            "274/274 [==============================] - 50s 183ms/step - loss: 0.0556 - accuracy: 0.9857\n"
          ],
          "name": "stdout"
        },
        {
          "output_type": "stream",
          "text": [
            "WARNING:tensorflow:Early stopping conditioned on metric `val_loss` which is not available. Available metrics are: loss,accuracy\n"
          ],
          "name": "stderr"
        },
        {
          "output_type": "stream",
          "text": [
            "\n",
            "Epoch 00005: accuracy improved from 0.97837 to 0.98574, saving model to models/imdb.005-0.9857.hdf5\n",
            "Epoch 6/10\n",
            "274/274 [==============================] - 50s 182ms/step - loss: 0.0383 - accuracy: 0.9907\n"
          ],
          "name": "stdout"
        },
        {
          "output_type": "stream",
          "text": [
            "WARNING:tensorflow:Early stopping conditioned on metric `val_loss` which is not available. Available metrics are: loss,accuracy\n"
          ],
          "name": "stderr"
        },
        {
          "output_type": "stream",
          "text": [
            "\n",
            "Epoch 00006: accuracy improved from 0.98574 to 0.99074, saving model to models/imdb.006-0.9907.hdf5\n",
            "Epoch 7/10\n",
            "274/274 [==============================] - 49s 180ms/step - loss: 0.0437 - accuracy: 0.9891\n"
          ],
          "name": "stdout"
        },
        {
          "output_type": "stream",
          "text": [
            "WARNING:tensorflow:Early stopping conditioned on metric `val_loss` which is not available. Available metrics are: loss,accuracy\n"
          ],
          "name": "stderr"
        },
        {
          "output_type": "stream",
          "text": [
            "\n",
            "Epoch 00007: accuracy did not improve from 0.99074\n",
            "Epoch 8/10\n",
            "274/274 [==============================] - 49s 181ms/step - loss: 0.0333 - accuracy: 0.9912\n"
          ],
          "name": "stdout"
        },
        {
          "output_type": "stream",
          "text": [
            "WARNING:tensorflow:Early stopping conditioned on metric `val_loss` which is not available. Available metrics are: loss,accuracy\n"
          ],
          "name": "stderr"
        },
        {
          "output_type": "stream",
          "text": [
            "\n",
            "Epoch 00008: accuracy improved from 0.99074 to 0.99123, saving model to models/imdb.008-0.9912.hdf5\n",
            "Epoch 9/10\n",
            "274/274 [==============================] - 49s 181ms/step - loss: 0.0285 - accuracy: 0.9931\n"
          ],
          "name": "stdout"
        },
        {
          "output_type": "stream",
          "text": [
            "WARNING:tensorflow:Early stopping conditioned on metric `val_loss` which is not available. Available metrics are: loss,accuracy\n"
          ],
          "name": "stderr"
        },
        {
          "output_type": "stream",
          "text": [
            "\n",
            "Epoch 00009: accuracy improved from 0.99123 to 0.99314, saving model to models/imdb.009-0.9931.hdf5\n",
            "Epoch 10/10\n",
            "274/274 [==============================] - 50s 182ms/step - loss: 0.0386 - accuracy: 0.9899\n"
          ],
          "name": "stdout"
        },
        {
          "output_type": "stream",
          "text": [
            "WARNING:tensorflow:Early stopping conditioned on metric `val_loss` which is not available. Available metrics are: loss,accuracy\n"
          ],
          "name": "stderr"
        },
        {
          "output_type": "stream",
          "text": [
            "\n",
            "Epoch 00010: accuracy did not improve from 0.99314\n"
          ],
          "name": "stdout"
        },
        {
          "output_type": "execute_result",
          "data": {
            "text/plain": [
              "<tensorflow.python.keras.callbacks.History at 0x7faed080e350>"
            ]
          },
          "metadata": {
            "tags": []
          },
          "execution_count": 74
        }
      ]
    },
    {
      "cell_type": "markdown",
      "metadata": {
        "id": "8prrGzqdz6cJ"
      },
      "source": [
        "### Test"
      ],
      "id": "8prrGzqdz6cJ"
    },
    {
      "cell_type": "code",
      "metadata": {
        "id": "b_ANdBbFzfjc",
        "outputId": "57c235c9-3ecd-492a-8bf9-3074567e91a1",
        "colab": {
          "base_uri": "https://localhost:8080/"
        }
      },
      "source": [
        "y_pred = (model.predict(x_test, batch_size = 128) > 0.5).astype(\"int32\")\n",
        "\n",
        "true = 0\n",
        "for i, y in enumerate(y_test):\n",
        "    if y == y_pred[i]:\n",
        "        true += 1\n",
        "\n",
        "print('Correct Prediction: {}'.format(true))\n",
        "print('Wrong Prediction: {}'.format(len(y_pred) - true))\n",
        "print('Accuracy: {}'.format(true/len(y_pred)*100))"
      ],
      "id": "b_ANdBbFzfjc",
      "execution_count": 99,
      "outputs": [
        {
          "output_type": "stream",
          "text": [
            "Correct Prediction: 12888\n",
            "Wrong Prediction: 2112\n",
            "Accuracy: 85.92\n"
          ],
          "name": "stdout"
        }
      ]
    },
    {
      "cell_type": "markdown",
      "metadata": {
        "id": "7cImVUZO1ds-"
      },
      "source": [
        "### Load model"
      ],
      "id": "7cImVUZO1ds-"
    },
    {
      "cell_type": "code",
      "metadata": {
        "id": "4mQvqNnt1frt"
      },
      "source": [
        "loaded_model = load_model('models/imdb.009-0.9931.hdf5')"
      ],
      "id": "4mQvqNnt1frt",
      "execution_count": 78,
      "outputs": []
    },
    {
      "cell_type": "code",
      "metadata": {
        "id": "ZSjS5VGy18--"
      },
      "source": [
        "def predict(model, review):\n",
        "  regex = re.compile(r'[^a-zA-Z\\s]')\n",
        "  review = regex.sub('', review)\n",
        "\n",
        "  words = review.split(' ')\n",
        "  filtered = [w for w in words if w not in english_stops]\n",
        "  filtered = ' '.join(filtered)\n",
        "  filtered = [filtered.lower()]\n",
        "\n",
        "  tokenize_words = token.texts_to_sequences(filtered)\n",
        "  tokenize_words = pad_sequences(tokenize_words, maxlen=max_length, padding='post', truncating='post')\n",
        "  return model.predict(tokenize_words)"
      ],
      "id": "ZSjS5VGy18--",
      "execution_count": 84,
      "outputs": []
    },
    {
      "cell_type": "code",
      "metadata": {
        "id": "ALjANdou2S18"
      },
      "source": [
        "test_review = 'This film is boring and ia hate it, I fell a sleep during the movie.'"
      ],
      "id": "ALjANdou2S18",
      "execution_count": 91,
      "outputs": []
    },
    {
      "cell_type": "code",
      "metadata": {
        "id": "O_Ymh2JK2bCJ",
        "outputId": "e6ef0042-37ea-4916-96ac-d75fd0c42e22",
        "colab": {
          "base_uri": "https://localhost:8080/"
        }
      },
      "source": [
        "result = predict(loaded_model, test_review)\n",
        "print('Result: {}'.format(result))"
      ],
      "id": "O_Ymh2JK2bCJ",
      "execution_count": 92,
      "outputs": [
        {
          "output_type": "stream",
          "text": [
            "Result: [[0.81380796]]\n"
          ],
          "name": "stdout"
        }
      ]
    }
  ]
}