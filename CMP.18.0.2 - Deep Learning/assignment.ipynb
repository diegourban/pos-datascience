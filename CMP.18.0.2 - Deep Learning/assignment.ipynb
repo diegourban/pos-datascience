{
  "nbformat": 4,
  "nbformat_minor": 5,
  "metadata": {
    "kernelspec": {
      "display_name": "Python 3",
      "language": "python",
      "name": "python3"
    },
    "language_info": {
      "codemirror_mode": {
        "name": "ipython",
        "version": 3
      },
      "file_extension": ".py",
      "mimetype": "text/x-python",
      "name": "python",
      "nbconvert_exporter": "python",
      "pygments_lexer": "ipython3",
      "version": "3.8.7"
    },
    "colab": {
      "name": "Trabalho Deep Learning.ipynb",
      "provenance": [],
      "collapsed_sections": []
    }
  },
  "cells": [
    {
      "cell_type": "markdown",
      "metadata": {
        "id": "94471057"
      },
      "source": [
        "### Classificação de textos para análise de sentimentos\n",
        "\n",
        "Base de dados \n",
        "\n",
        "Instruções:\n",
        "- O objetivo deste trabalho é criar um modelo binário de aprendizado de máquina para classificação de textos. \n",
        "Para isso, será utilizado a base de dados [IMDb](http://ai.stanford.edu/~amaas/data/sentiment/), que consiste de dados textuais de críticas positivas e negativas de filmes\n",
        "- Uma vez treinado, o modelo deve ter uma função `predict` que recebe uma string como parâmetro e retorna o valor 1 ou 0, aonde 1 significa uma crítica positiva e 0 uma crítica negativa\n",
        "- O pré-processamento pode ser desenvolvidado conforme desejar (ex.: remoção de stopwords, word embedding, one-hot encoding, char encoding)\n",
        "- É preferível que seja empregado um modelo de recorrência (ex.: rnn, lstm, gru) para a etapa de classificação\n",
        "- Documente o código (explique sucintamente o que cada função faz, insira comentários em trechos de código relevantes)\n",
        "- **Atenção**: Uma vez treinado o modelo final, salve-o no diretório do seu projeto e crie uma célula ao final do notebook contendo uma função de leitura deste arquivo, juntamente com a execução da função `predict`\n",
        "\n",
        "Sugestões:\n",
        "- Explorar a base de dados nas células iniciais do notebook para ter um melhor entendimento do problema, distribuição dos dados, etc\n",
        "- Após desenvolver a estrutura de classificação, é indicado fazer uma busca de hiperparâmetros e comparar os resultados obtidos em diferentes situações\n",
        "\n",
        "Prazo de entrega:\n",
        "- 01-08-2021 às 23:59hs GMT-3\n",
        "\n",
        "Formato preferível de entrega:\n",
        "- Postar no portal Ava da disciplina o link do projeto no github (ou anexar o projeto diretamente no portal Ava)\n",
        "\n",
        "luann.porfirio@gmail.com"
      ],
      "id": "94471057"
    },
    {
      "cell_type": "markdown",
      "metadata": {
        "id": "k_B-74psiJvZ"
      },
      "source": [
        "#Universidade: FURB</br>\n",
        "##Curso: Data Science</br>\n",
        "###Disciplina: Deep Learning</br>\n",
        "####Aluno: Diego Leonardo Urban"
      ],
      "id": "k_B-74psiJvZ"
    },
    {
      "cell_type": "markdown",
      "metadata": {
        "id": "i9Gy2Op0m-oa"
      },
      "source": [
        "### Import all libraries"
      ],
      "id": "i9Gy2Op0m-oa"
    },
    {
      "cell_type": "code",
      "metadata": {
        "id": "Qb8Scfc6m1V1"
      },
      "source": [
        "import re\n",
        "import nltk\n",
        "import numpy as np\n",
        "import pandas as pd\n",
        "import matplotlib.pyplot as plt\n",
        "\n",
        "from torchtext import datasets\n",
        "from sklearn.model_selection import train_test_split\n",
        "from tensorflow.keras.preprocessing.text import Tokenizer\n",
        "from tensorflow.keras.preprocessing.sequence import pad_sequences\n",
        "from tensorflow.keras.models import Sequential\n",
        "from tensorflow.keras.layers import Embedding, BatchNormalization, LSTM, Dropout, Dense\n",
        "from tensorflow.keras.callbacks import EarlyStopping, ModelCheckpoint, TensorBoard\n",
        "from tensorflow.keras.models import load_model"
      ],
      "id": "Qb8Scfc6m1V1",
      "execution_count": 1,
      "outputs": []
    },
    {
      "cell_type": "markdown",
      "metadata": {
        "id": "VATFtnypnFj1"
      },
      "source": [
        "### Load Dataset"
      ],
      "id": "VATFtnypnFj1"
    },
    {
      "cell_type": "code",
      "metadata": {
        "id": "M-5lm6mhmzZn",
        "colab": {
          "base_uri": "https://localhost:8080/"
        },
        "outputId": "66ec4f8d-6eed-49ae-b051-bcef74eff4bb"
      },
      "source": [
        "train_iter, test_iter = datasets.IMDB()\n",
        "dataset_imdb = list(train_iter + test_iter)\n",
        "df_imdb_raw = pd.DataFrame(data=dataset_imdb, columns=['sentiment', 'review'])"
      ],
      "id": "M-5lm6mhmzZn",
      "execution_count": 2,
      "outputs": [
        {
          "output_type": "stream",
          "text": [
            "aclImdb_v1.tar.gz: 100%|██████████| 84.1M/84.1M [00:02<00:00, 30.0MB/s]\n"
          ],
          "name": "stderr"
        }
      ]
    },
    {
      "cell_type": "markdown",
      "metadata": {
        "id": "c0U7UDebnYQr"
      },
      "source": [
        "### Explore Dataset"
      ],
      "id": "c0U7UDebnYQr"
    },
    {
      "cell_type": "code",
      "metadata": {
        "id": "H49gWfzpnZvh",
        "colab": {
          "base_uri": "https://localhost:8080/"
        },
        "outputId": "e11e10ca-b3ff-4687-e6bf-68b80555e0c0"
      },
      "source": [
        "df_imdb_raw.shape"
      ],
      "id": "H49gWfzpnZvh",
      "execution_count": 3,
      "outputs": [
        {
          "output_type": "execute_result",
          "data": {
            "text/plain": [
              "(50000, 2)"
            ]
          },
          "metadata": {
            "tags": []
          },
          "execution_count": 3
        }
      ]
    },
    {
      "cell_type": "code",
      "metadata": {
        "id": "5ir8D-Bknhak",
        "colab": {
          "base_uri": "https://localhost:8080/"
        },
        "outputId": "c9701d8a-72c8-42f1-bad3-d385b63d2e98"
      },
      "source": [
        "df_imdb_raw.info()"
      ],
      "id": "5ir8D-Bknhak",
      "execution_count": 4,
      "outputs": [
        {
          "output_type": "stream",
          "text": [
            "<class 'pandas.core.frame.DataFrame'>\n",
            "RangeIndex: 50000 entries, 0 to 49999\n",
            "Data columns (total 2 columns):\n",
            " #   Column     Non-Null Count  Dtype \n",
            "---  ------     --------------  ----- \n",
            " 0   sentiment  50000 non-null  object\n",
            " 1   review     50000 non-null  object\n",
            "dtypes: object(2)\n",
            "memory usage: 781.4+ KB\n"
          ],
          "name": "stdout"
        }
      ]
    },
    {
      "cell_type": "code",
      "metadata": {
        "id": "A3icQlvcnkL0",
        "colab": {
          "base_uri": "https://localhost:8080/",
          "height": 175
        },
        "outputId": "b4e4a335-6dc5-4854-9d71-a12fa3ef0547"
      },
      "source": [
        "df_imdb_raw.describe()"
      ],
      "id": "A3icQlvcnkL0",
      "execution_count": 5,
      "outputs": [
        {
          "output_type": "execute_result",
          "data": {
            "text/html": [
              "<div>\n",
              "<style scoped>\n",
              "    .dataframe tbody tr th:only-of-type {\n",
              "        vertical-align: middle;\n",
              "    }\n",
              "\n",
              "    .dataframe tbody tr th {\n",
              "        vertical-align: top;\n",
              "    }\n",
              "\n",
              "    .dataframe thead th {\n",
              "        text-align: right;\n",
              "    }\n",
              "</style>\n",
              "<table border=\"1\" class=\"dataframe\">\n",
              "  <thead>\n",
              "    <tr style=\"text-align: right;\">\n",
              "      <th></th>\n",
              "      <th>sentiment</th>\n",
              "      <th>review</th>\n",
              "    </tr>\n",
              "  </thead>\n",
              "  <tbody>\n",
              "    <tr>\n",
              "      <th>count</th>\n",
              "      <td>50000</td>\n",
              "      <td>50000</td>\n",
              "    </tr>\n",
              "    <tr>\n",
              "      <th>unique</th>\n",
              "      <td>2</td>\n",
              "      <td>49582</td>\n",
              "    </tr>\n",
              "    <tr>\n",
              "      <th>top</th>\n",
              "      <td>neg</td>\n",
              "      <td>Loved today's show!!! It was a variety and not...</td>\n",
              "    </tr>\n",
              "    <tr>\n",
              "      <th>freq</th>\n",
              "      <td>25000</td>\n",
              "      <td>5</td>\n",
              "    </tr>\n",
              "  </tbody>\n",
              "</table>\n",
              "</div>"
            ],
            "text/plain": [
              "       sentiment                                             review\n",
              "count      50000                                              50000\n",
              "unique         2                                              49582\n",
              "top          neg  Loved today's show!!! It was a variety and not...\n",
              "freq       25000                                                  5"
            ]
          },
          "metadata": {
            "tags": []
          },
          "execution_count": 5
        }
      ]
    },
    {
      "cell_type": "code",
      "metadata": {
        "id": "15HDxLXlnnOz",
        "colab": {
          "base_uri": "https://localhost:8080/"
        },
        "outputId": "62b9f71d-3147-4770-9c1c-abbdc269e313"
      },
      "source": [
        "df_imdb_raw.nunique()"
      ],
      "id": "15HDxLXlnnOz",
      "execution_count": 6,
      "outputs": [
        {
          "output_type": "execute_result",
          "data": {
            "text/plain": [
              "sentiment        2\n",
              "review       49582\n",
              "dtype: int64"
            ]
          },
          "metadata": {
            "tags": []
          },
          "execution_count": 6
        }
      ]
    },
    {
      "cell_type": "code",
      "metadata": {
        "id": "JsMFugKunt7K",
        "colab": {
          "base_uri": "https://localhost:8080/",
          "height": 206
        },
        "outputId": "641827f0-3ec9-499a-f0ab-33d96dbe45d7"
      },
      "source": [
        "df_imdb_raw.head()"
      ],
      "id": "JsMFugKunt7K",
      "execution_count": 7,
      "outputs": [
        {
          "output_type": "execute_result",
          "data": {
            "text/html": [
              "<div>\n",
              "<style scoped>\n",
              "    .dataframe tbody tr th:only-of-type {\n",
              "        vertical-align: middle;\n",
              "    }\n",
              "\n",
              "    .dataframe tbody tr th {\n",
              "        vertical-align: top;\n",
              "    }\n",
              "\n",
              "    .dataframe thead th {\n",
              "        text-align: right;\n",
              "    }\n",
              "</style>\n",
              "<table border=\"1\" class=\"dataframe\">\n",
              "  <thead>\n",
              "    <tr style=\"text-align: right;\">\n",
              "      <th></th>\n",
              "      <th>sentiment</th>\n",
              "      <th>review</th>\n",
              "    </tr>\n",
              "  </thead>\n",
              "  <tbody>\n",
              "    <tr>\n",
              "      <th>0</th>\n",
              "      <td>neg</td>\n",
              "      <td>I rented I AM CURIOUS-YELLOW from my video sto...</td>\n",
              "    </tr>\n",
              "    <tr>\n",
              "      <th>1</th>\n",
              "      <td>neg</td>\n",
              "      <td>\"I Am Curious: Yellow\" is a risible and preten...</td>\n",
              "    </tr>\n",
              "    <tr>\n",
              "      <th>2</th>\n",
              "      <td>neg</td>\n",
              "      <td>If only to avoid making this type of film in t...</td>\n",
              "    </tr>\n",
              "    <tr>\n",
              "      <th>3</th>\n",
              "      <td>neg</td>\n",
              "      <td>This film was probably inspired by Godard's Ma...</td>\n",
              "    </tr>\n",
              "    <tr>\n",
              "      <th>4</th>\n",
              "      <td>neg</td>\n",
              "      <td>Oh, brother...after hearing about this ridicul...</td>\n",
              "    </tr>\n",
              "  </tbody>\n",
              "</table>\n",
              "</div>"
            ],
            "text/plain": [
              "  sentiment                                             review\n",
              "0       neg  I rented I AM CURIOUS-YELLOW from my video sto...\n",
              "1       neg  \"I Am Curious: Yellow\" is a risible and preten...\n",
              "2       neg  If only to avoid making this type of film in t...\n",
              "3       neg  This film was probably inspired by Godard's Ma...\n",
              "4       neg  Oh, brother...after hearing about this ridicul..."
            ]
          },
          "metadata": {
            "tags": []
          },
          "execution_count": 7
        }
      ]
    },
    {
      "cell_type": "code",
      "metadata": {
        "id": "BJ7vngopnuBC",
        "colab": {
          "base_uri": "https://localhost:8080/",
          "height": 206
        },
        "outputId": "ed0af5a4-bb59-41c6-a083-dfb6193bea42"
      },
      "source": [
        "df_imdb_raw.tail()"
      ],
      "id": "BJ7vngopnuBC",
      "execution_count": 8,
      "outputs": [
        {
          "output_type": "execute_result",
          "data": {
            "text/html": [
              "<div>\n",
              "<style scoped>\n",
              "    .dataframe tbody tr th:only-of-type {\n",
              "        vertical-align: middle;\n",
              "    }\n",
              "\n",
              "    .dataframe tbody tr th {\n",
              "        vertical-align: top;\n",
              "    }\n",
              "\n",
              "    .dataframe thead th {\n",
              "        text-align: right;\n",
              "    }\n",
              "</style>\n",
              "<table border=\"1\" class=\"dataframe\">\n",
              "  <thead>\n",
              "    <tr style=\"text-align: right;\">\n",
              "      <th></th>\n",
              "      <th>sentiment</th>\n",
              "      <th>review</th>\n",
              "    </tr>\n",
              "  </thead>\n",
              "  <tbody>\n",
              "    <tr>\n",
              "      <th>49995</th>\n",
              "      <td>pos</td>\n",
              "      <td>Just got around to seeing Monster Man yesterda...</td>\n",
              "    </tr>\n",
              "    <tr>\n",
              "      <th>49996</th>\n",
              "      <td>pos</td>\n",
              "      <td>I got this as part of a competition prize. I w...</td>\n",
              "    </tr>\n",
              "    <tr>\n",
              "      <th>49997</th>\n",
              "      <td>pos</td>\n",
              "      <td>I got Monster Man in a box set of three films ...</td>\n",
              "    </tr>\n",
              "    <tr>\n",
              "      <th>49998</th>\n",
              "      <td>pos</td>\n",
              "      <td>Five minutes in, i started to feel how naff th...</td>\n",
              "    </tr>\n",
              "    <tr>\n",
              "      <th>49999</th>\n",
              "      <td>pos</td>\n",
              "      <td>I caught this movie on the Sci-Fi channel rece...</td>\n",
              "    </tr>\n",
              "  </tbody>\n",
              "</table>\n",
              "</div>"
            ],
            "text/plain": [
              "      sentiment                                             review\n",
              "49995       pos  Just got around to seeing Monster Man yesterda...\n",
              "49996       pos  I got this as part of a competition prize. I w...\n",
              "49997       pos  I got Monster Man in a box set of three films ...\n",
              "49998       pos  Five minutes in, i started to feel how naff th...\n",
              "49999       pos  I caught this movie on the Sci-Fi channel rece..."
            ]
          },
          "metadata": {
            "tags": []
          },
          "execution_count": 8
        }
      ]
    },
    {
      "cell_type": "code",
      "metadata": {
        "id": "E6LL5p7RnuEF",
        "colab": {
          "base_uri": "https://localhost:8080/",
          "height": 424
        },
        "outputId": "ad048007-4817-4d15-9f58-7565dfc3de58"
      },
      "source": [
        "df_imdb_raw[df_imdb_raw.duplicated()]"
      ],
      "id": "E6LL5p7RnuEF",
      "execution_count": 9,
      "outputs": [
        {
          "output_type": "execute_result",
          "data": {
            "text/html": [
              "<div>\n",
              "<style scoped>\n",
              "    .dataframe tbody tr th:only-of-type {\n",
              "        vertical-align: middle;\n",
              "    }\n",
              "\n",
              "    .dataframe tbody tr th {\n",
              "        vertical-align: top;\n",
              "    }\n",
              "\n",
              "    .dataframe thead th {\n",
              "        text-align: right;\n",
              "    }\n",
              "</style>\n",
              "<table border=\"1\" class=\"dataframe\">\n",
              "  <thead>\n",
              "    <tr style=\"text-align: right;\">\n",
              "      <th></th>\n",
              "      <th>sentiment</th>\n",
              "      <th>review</th>\n",
              "    </tr>\n",
              "  </thead>\n",
              "  <tbody>\n",
              "    <tr>\n",
              "      <th>168</th>\n",
              "      <td>neg</td>\n",
              "      <td>I am not so much like Love Sick as I image. Fi...</td>\n",
              "    </tr>\n",
              "    <tr>\n",
              "      <th>664</th>\n",
              "      <td>neg</td>\n",
              "      <td>Holy freaking God all-freaking-mighty. This mo...</td>\n",
              "    </tr>\n",
              "    <tr>\n",
              "      <th>701</th>\n",
              "      <td>neg</td>\n",
              "      <td>The story and the show were good, but it was r...</td>\n",
              "    </tr>\n",
              "    <tr>\n",
              "      <th>3070</th>\n",
              "      <td>neg</td>\n",
              "      <td>I watched this movie when Joe Bob Briggs hoste...</td>\n",
              "    </tr>\n",
              "    <tr>\n",
              "      <th>3591</th>\n",
              "      <td>neg</td>\n",
              "      <td>I like Chris Rock, but I feel he is wasted in ...</td>\n",
              "    </tr>\n",
              "    <tr>\n",
              "      <th>...</th>\n",
              "      <td>...</td>\n",
              "      <td>...</td>\n",
              "    </tr>\n",
              "    <tr>\n",
              "      <th>49911</th>\n",
              "      <td>pos</td>\n",
              "      <td>I watched Pola X because Scott Walker composed...</td>\n",
              "    </tr>\n",
              "    <tr>\n",
              "      <th>49912</th>\n",
              "      <td>pos</td>\n",
              "      <td>Leos Carax has made 3 great movies: Boys Meet ...</td>\n",
              "    </tr>\n",
              "    <tr>\n",
              "      <th>49913</th>\n",
              "      <td>pos</td>\n",
              "      <td>Leos Carax is brilliant and is one of the best...</td>\n",
              "    </tr>\n",
              "    <tr>\n",
              "      <th>49914</th>\n",
              "      <td>pos</td>\n",
              "      <td>I've tried to reconcile why so many bad review...</td>\n",
              "    </tr>\n",
              "    <tr>\n",
              "      <th>49962</th>\n",
              "      <td>pos</td>\n",
              "      <td>I have seen most of the Tarzan episodes. Certa...</td>\n",
              "    </tr>\n",
              "  </tbody>\n",
              "</table>\n",
              "<p>418 rows × 2 columns</p>\n",
              "</div>"
            ],
            "text/plain": [
              "      sentiment                                             review\n",
              "168         neg  I am not so much like Love Sick as I image. Fi...\n",
              "664         neg  Holy freaking God all-freaking-mighty. This mo...\n",
              "701         neg  The story and the show were good, but it was r...\n",
              "3070        neg  I watched this movie when Joe Bob Briggs hoste...\n",
              "3591        neg  I like Chris Rock, but I feel he is wasted in ...\n",
              "...         ...                                                ...\n",
              "49911       pos  I watched Pola X because Scott Walker composed...\n",
              "49912       pos  Leos Carax has made 3 great movies: Boys Meet ...\n",
              "49913       pos  Leos Carax is brilliant and is one of the best...\n",
              "49914       pos  I've tried to reconcile why so many bad review...\n",
              "49962       pos  I have seen most of the Tarzan episodes. Certa...\n",
              "\n",
              "[418 rows x 2 columns]"
            ]
          },
          "metadata": {
            "tags": []
          },
          "execution_count": 9
        }
      ]
    },
    {
      "cell_type": "markdown",
      "metadata": {
        "id": "9S30kDKFn6bC"
      },
      "source": [
        "Necessário remover stopwords, caracteres que não são alfabeto e transformar para lowercase.\n",
        "\n",
        "Há também casos duplicados.\n"
      ],
      "id": "9S30kDKFn6bC"
    },
    {
      "cell_type": "markdown",
      "metadata": {
        "id": "aFowI-Min_7F"
      },
      "source": [
        "### Clean Dataset"
      ],
      "id": "aFowI-Min_7F"
    },
    {
      "cell_type": "code",
      "metadata": {
        "id": "ou1VWI3kzOnz"
      },
      "source": [
        "df_cleaned = df_imdb_raw.drop_duplicates()"
      ],
      "id": "ou1VWI3kzOnz",
      "execution_count": 10,
      "outputs": []
    },
    {
      "cell_type": "code",
      "metadata": {
        "colab": {
          "base_uri": "https://localhost:8080/",
          "height": 175
        },
        "id": "6Qiax8U6cwJi",
        "outputId": "1cb09641-477f-496e-b742-2209bed52a6f"
      },
      "source": [
        "df_cleaned.describe()"
      ],
      "id": "6Qiax8U6cwJi",
      "execution_count": 11,
      "outputs": [
        {
          "output_type": "execute_result",
          "data": {
            "text/html": [
              "<div>\n",
              "<style scoped>\n",
              "    .dataframe tbody tr th:only-of-type {\n",
              "        vertical-align: middle;\n",
              "    }\n",
              "\n",
              "    .dataframe tbody tr th {\n",
              "        vertical-align: top;\n",
              "    }\n",
              "\n",
              "    .dataframe thead th {\n",
              "        text-align: right;\n",
              "    }\n",
              "</style>\n",
              "<table border=\"1\" class=\"dataframe\">\n",
              "  <thead>\n",
              "    <tr style=\"text-align: right;\">\n",
              "      <th></th>\n",
              "      <th>sentiment</th>\n",
              "      <th>review</th>\n",
              "    </tr>\n",
              "  </thead>\n",
              "  <tbody>\n",
              "    <tr>\n",
              "      <th>count</th>\n",
              "      <td>49582</td>\n",
              "      <td>49582</td>\n",
              "    </tr>\n",
              "    <tr>\n",
              "      <th>unique</th>\n",
              "      <td>2</td>\n",
              "      <td>49582</td>\n",
              "    </tr>\n",
              "    <tr>\n",
              "      <th>top</th>\n",
              "      <td>pos</td>\n",
              "      <td>TCM is keeping me awake all the time... they k...</td>\n",
              "    </tr>\n",
              "    <tr>\n",
              "      <th>freq</th>\n",
              "      <td>24884</td>\n",
              "      <td>1</td>\n",
              "    </tr>\n",
              "  </tbody>\n",
              "</table>\n",
              "</div>"
            ],
            "text/plain": [
              "       sentiment                                             review\n",
              "count      49582                                              49582\n",
              "unique         2                                              49582\n",
              "top          pos  TCM is keeping me awake all the time... they k...\n",
              "freq       24884                                                  1"
            ]
          },
          "metadata": {
            "tags": []
          },
          "execution_count": 11
        }
      ]
    },
    {
      "cell_type": "code",
      "metadata": {
        "id": "cxURGahE2xrA",
        "colab": {
          "base_uri": "https://localhost:8080/"
        },
        "outputId": "e4cfbf6c-c128-432e-bec9-8d87c81b180d"
      },
      "source": [
        "nltk.download('stopwords')\n",
        "english_stops = set(nltk.corpus.stopwords.words('english'))"
      ],
      "id": "cxURGahE2xrA",
      "execution_count": 12,
      "outputs": [
        {
          "output_type": "stream",
          "text": [
            "[nltk_data] Downloading package stopwords to /root/nltk_data...\n",
            "[nltk_data]   Unzipping corpora/stopwords.zip.\n"
          ],
          "name": "stdout"
        }
      ]
    },
    {
      "cell_type": "code",
      "metadata": {
        "id": "L_ZPLutKqe8p"
      },
      "source": [
        "X, y = df_imdb_raw['review'],df_imdb_raw['sentiment']"
      ],
      "id": "L_ZPLutKqe8p",
      "execution_count": 13,
      "outputs": []
    },
    {
      "cell_type": "code",
      "metadata": {
        "id": "6b0o0rcFo40-"
      },
      "source": [
        "X = X.replace({'<.*?>': ''}, regex = True)\n",
        "X = X.replace({'[^A-Za-z]': ' '}, regex = True)\n",
        "X = X.apply(lambda review: [w for w in review.split() if w not in english_stops])\n",
        "X = X.apply(lambda review: [w.lower() for w in review])"
      ],
      "id": "6b0o0rcFo40-",
      "execution_count": 14,
      "outputs": []
    },
    {
      "cell_type": "code",
      "metadata": {
        "id": "XUiC_gezq0h9"
      },
      "source": [
        "y = y.replace('pos', 1)\n",
        "y = y.replace('neg', 0)"
      ],
      "id": "XUiC_gezq0h9",
      "execution_count": 15,
      "outputs": []
    },
    {
      "cell_type": "code",
      "metadata": {
        "id": "ymgwlBBlrDhP"
      },
      "source": [
        "X_train, X_test, y_train, y_test = train_test_split(X, y, test_size = 0.2)"
      ],
      "id": "ymgwlBBlrDhP",
      "execution_count": 16,
      "outputs": []
    },
    {
      "cell_type": "code",
      "metadata": {
        "id": "d0l-OZ3MrqWK",
        "colab": {
          "base_uri": "https://localhost:8080/"
        },
        "outputId": "d6934227-34ae-4ee2-9d69-ee8161892fec"
      },
      "source": [
        "# Tokenize Review\n",
        "token = Tokenizer(lower=False)\n",
        "token.fit_on_texts(X_train)\n",
        "X_train = token.texts_to_sequences(X_train)\n",
        "X_test = token.texts_to_sequences(X_test)\n",
        "\n",
        "# Truncate Review\n",
        "max_review_length = int(np.ceil(np.mean([len(review) for review in X_train])))\n",
        "X_train = pad_sequences(X_train, maxlen=max_review_length, padding='post', truncating='post')\n",
        "X_test = pad_sequences(X_test, maxlen=max_review_length, padding='post', truncating='post')\n",
        "\n",
        "total_words = len(token.word_index) + 1\n",
        "\n",
        "print('Max review length: {}'.format(max_review_length))"
      ],
      "id": "d0l-OZ3MrqWK",
      "execution_count": 17,
      "outputs": [
        {
          "output_type": "stream",
          "text": [
            "Max review length: 130\n"
          ],
          "name": "stdout"
        }
      ]
    },
    {
      "cell_type": "markdown",
      "metadata": {
        "id": "zgGnqC3M0DLi"
      },
      "source": [
        "### Build Architecture"
      ],
      "id": "zgGnqC3M0DLi"
    },
    {
      "cell_type": "code",
      "metadata": {
        "id": "dUsKQHB2sDiD",
        "colab": {
          "base_uri": "https://localhost:8080/"
        },
        "outputId": "eabc256c-1234-4371-ceaa-ca9a09d1433e"
      },
      "source": [
        "embedding_neurons = 128\n",
        "lstm_neurons = 64\n",
        "\n",
        "model = Sequential()\n",
        "model.add(Embedding(total_words, embedding_neurons, input_length = max_review_length))\n",
        "model.add(BatchNormalization())\n",
        "model.add(LSTM(lstm_neurons, dropout=0.2))\n",
        "model.add(Dropout(0.5))\n",
        "model.add(Dense(1, activation='sigmoid'))\n",
        "model.compile(optimizer = 'adam', loss = 'binary_crossentropy', metrics = ['accuracy'])\n",
        "\n",
        "print(model.summary())"
      ],
      "id": "dUsKQHB2sDiD",
      "execution_count": 18,
      "outputs": [
        {
          "output_type": "stream",
          "text": [
            "Model: \"sequential\"\n",
            "_________________________________________________________________\n",
            "Layer (type)                 Output Shape              Param #   \n",
            "=================================================================\n",
            "embedding (Embedding)        (None, 130, 128)          11795584  \n",
            "_________________________________________________________________\n",
            "batch_normalization (BatchNo (None, 130, 128)          512       \n",
            "_________________________________________________________________\n",
            "lstm (LSTM)                  (None, 64)                49408     \n",
            "_________________________________________________________________\n",
            "dropout (Dropout)            (None, 64)                0         \n",
            "_________________________________________________________________\n",
            "dense (Dense)                (None, 1)                 65        \n",
            "=================================================================\n",
            "Total params: 11,845,569\n",
            "Trainable params: 11,845,313\n",
            "Non-trainable params: 256\n",
            "_________________________________________________________________\n",
            "None\n"
          ],
          "name": "stdout"
        }
      ]
    },
    {
      "cell_type": "markdown",
      "metadata": {
        "id": "2Ckt3kYc0LQp"
      },
      "source": [
        "### Train Architecture"
      ],
      "id": "2Ckt3kYc0LQp"
    },
    {
      "cell_type": "code",
      "metadata": {
        "id": "zkxGlqFfsT6k"
      },
      "source": [
        "early_stop = EarlyStopping(\n",
        "    monitor=\"accuracy\",\n",
        "    patience=2\n",
        ")\n",
        "\n",
        "checkpoint = ModelCheckpoint(\n",
        "    'models/imdb.{epoch:03d}-{loss:.4f}-{accuracy:.4f}-{val_loss:.4f}-{val_accuracy:.4f}.hdf5',\n",
        "    monitor='accuracy',\n",
        "    save_best_only=True,\n",
        "    verbose=1\n",
        ")\n",
        "\n",
        "logs = TensorBoard(log_dir='./logs')\n",
        "\n",
        "callbacks = [ early_stop, checkpoint, logs ]"
      ],
      "id": "zkxGlqFfsT6k",
      "execution_count": 19,
      "outputs": []
    },
    {
      "cell_type": "code",
      "metadata": {
        "id": "eW5sjmz4sneF",
        "colab": {
          "base_uri": "https://localhost:8080/"
        },
        "outputId": "853e25d9-64c3-4b77-a53c-21b1006f9726"
      },
      "source": [
        "EPOCHS = 30\n",
        "\n",
        "history = model.fit(X_train, y_train, batch_size = 128, epochs = EPOCHS, validation_data=(X_test, y_test), callbacks=callbacks)"
      ],
      "id": "eW5sjmz4sneF",
      "execution_count": null,
      "outputs": [
        {
          "output_type": "stream",
          "text": [
            "Epoch 1/30\n",
            "313/313 [==============================] - 148s 460ms/step - loss: 0.6727 - accuracy: 0.5550 - val_loss: 0.6829 - val_accuracy: 0.5562\n",
            "\n",
            "Epoch 00001: accuracy improved from -inf to 0.55497, saving model to models/imdb.001-0.6727-0.5550-0.6829-0.5562.hdf5\n",
            "Epoch 2/30\n",
            "313/313 [==============================] - 147s 470ms/step - loss: 0.5486 - accuracy: 0.7308 - val_loss: 0.5470 - val_accuracy: 0.7981\n",
            "\n",
            "Epoch 00002: accuracy improved from 0.55497 to 0.73077, saving model to models/imdb.002-0.5486-0.7308-0.5470-0.7981.hdf5\n",
            "Epoch 3/30\n",
            "313/313 [==============================] - 144s 458ms/step - loss: 0.4190 - accuracy: 0.8386 - val_loss: 0.4624 - val_accuracy: 0.8154\n",
            "\n",
            "Epoch 00003: accuracy improved from 0.73077 to 0.83858, saving model to models/imdb.003-0.4190-0.8386-0.4624-0.8154.hdf5\n",
            "Epoch 4/30\n",
            "313/313 [==============================] - 140s 448ms/step - loss: 0.3914 - accuracy: 0.8432 - val_loss: 0.4439 - val_accuracy: 0.8200\n",
            "\n",
            "Epoch 00004: accuracy improved from 0.83858 to 0.84325, saving model to models/imdb.004-0.3914-0.8432-0.4439-0.8200.hdf5\n",
            "Epoch 5/30\n",
            "107/313 [=========>....................] - ETA: 1:31 - loss: 0.2407 - accuracy: 0.9183"
          ],
          "name": "stdout"
        }
      ]
    },
    {
      "cell_type": "code",
      "metadata": {
        "id": "w5KB5i2bqlKG"
      },
      "source": [
        "def plot_learningCurve(history, epochs):\n",
        "  epoch_range = range(1, epochs+1)\n",
        "  plt.plot(epoch_range, history.history['accuracy'])\n",
        "  plt.plot(epoch_range, history.history['val_accuracy'])\n",
        "  plt.title('Model accuracy')\n",
        "  plt.ylabel('Accuracy')\n",
        "  plt.xlabel('Epoch')\n",
        "  plt.legend(['Train', 'Val'], loc='upper left')\n",
        "  plt.show()\n",
        "\n",
        "  plt.plot(epoch_range, history.history['loss'])\n",
        "  plt.plot(epoch_range, history.history['val_loss'])\n",
        "  plt.title('Model loss')\n",
        "  plt.ylabel('Loss')\n",
        "  plt.xlabel('Epoch')\n",
        "  plt.legend(['Train', 'Val'], loc='upper left')\n",
        "  plt.show()"
      ],
      "id": "w5KB5i2bqlKG",
      "execution_count": 23,
      "outputs": []
    },
    {
      "cell_type": "code",
      "metadata": {
        "id": "phoQq9b28cV3",
        "colab": {
          "base_uri": "https://localhost:8080/",
          "height": 573
        },
        "outputId": "badd8729-2716-4bbc-9aa8-7ff9e0fddc63"
      },
      "source": [
        "plot_learningCurve(history, 20)"
      ],
      "id": "phoQq9b28cV3",
      "execution_count": 25,
      "outputs": [
        {
          "output_type": "display_data",
          "data": {
            "image/png": "[encoded data removed]",
            "text/plain": [
              "<Figure size 432x288 with 1 Axes>"
            ]
          },
          "metadata": {
            "tags": [],
            "needs_background": "light"
          }
        },
        {
          "output_type": "display_data",
          "data": {
            "image/png": "[encoded data removed]",
            "text/plain": [
              "<Figure size 432x288 with 1 Axes>"
            ]
          },
          "metadata": {
            "tags": [],
            "needs_background": "light"
          }
        }
      ]
    },
    {
      "cell_type": "markdown",
      "metadata": {
        "id": "8prrGzqdz6cJ"
      },
      "source": [
        "### Test Architecture"
      ],
      "id": "8prrGzqdz6cJ"
    },
    {
      "cell_type": "code",
      "metadata": {
        "id": "b_ANdBbFzfjc",
        "colab": {
          "base_uri": "https://localhost:8080/"
        },
        "outputId": "bb62bf5f-f2be-4787-cc65-9c96b4f74d4a"
      },
      "source": [
        "y_pred = (model.predict(X_test, batch_size = 128) > 0.5).astype(\"int32\")\n",
        "\n",
        "true = 0\n",
        "for i, y in enumerate(y_test):\n",
        "    if y == y_pred[i]:\n",
        "        true += 1\n",
        "\n",
        "print('Correct Prediction: {}'.format(true))\n",
        "print('Wrong Prediction: {}'.format(len(y_pred) - true))\n",
        "print('Accuracy: {}'.format(true/len(y_pred)*100))"
      ],
      "id": "b_ANdBbFzfjc",
      "execution_count": 26,
      "outputs": [
        {
          "output_type": "stream",
          "text": [
            "Correct Prediction: 8551\n",
            "Wrong Prediction: 1449\n",
            "Accuracy: 85.50999999999999\n"
          ],
          "name": "stdout"
        }
      ]
    },
    {
      "cell_type": "markdown",
      "metadata": {
        "id": "7cImVUZO1ds-"
      },
      "source": [
        "### Load model"
      ],
      "id": "7cImVUZO1ds-"
    },
    {
      "cell_type": "code",
      "metadata": {
        "id": "4mQvqNnt1frt"
      },
      "source": [
        "loaded_model = load_model('models/imdb.018-0.0097-0.9976-0.9030-0.8543.hdf5')"
      ],
      "id": "4mQvqNnt1frt",
      "execution_count": 27,
      "outputs": []
    },
    {
      "cell_type": "code",
      "metadata": {
        "id": "ZSjS5VGy18--"
      },
      "source": [
        "def predict(model, review):\n",
        "  regex = re.compile(r'[^a-zA-Z\\s]')\n",
        "  review = regex.sub('', review)\n",
        "\n",
        "  words = review.split(' ')\n",
        "  filtered = [w for w in words if w not in english_stops]\n",
        "  filtered = ' '.join(filtered)\n",
        "  filtered = [filtered.lower()]\n",
        "\n",
        "  tokenize_words = token.texts_to_sequences(filtered)\n",
        "  tokenize_words = pad_sequences(tokenize_words, maxlen=max_review_length, padding='post', truncating='post')\n",
        "  result = model.predict(tokenize_words)\n",
        "  value = result.astype(float).squeeze().item()\n",
        "  sentiment = 'Positive' if result > 0.5 else 'Negative'\n",
        "\n",
        "  return ('{:.3f}'.format(value), sentiment)"
      ],
      "id": "ZSjS5VGy18--",
      "execution_count": 30,
      "outputs": []
    },
    {
      "cell_type": "code",
      "metadata": {
        "id": "O_Ymh2JK2bCJ",
        "colab": {
          "base_uri": "https://localhost:8080/"
        },
        "outputId": "5e2a2bf9-b1ed-466e-a9d5-3fea9386c499"
      },
      "source": [
        "print('Result: {}'.format(predict(loaded_model, 'The Most Overrated Movie of All Time')))\n",
        "print('Result: {}'.format(predict(loaded_model, 'Tied for the best movie I have ever seen')))"
      ],
      "id": "O_Ymh2JK2bCJ",
      "execution_count": 31,
      "outputs": [
        {
          "output_type": "stream",
          "text": [
            "Result: ('0.000', 'Negative')\n",
            "Result: ('0.985', 'Positive')\n"
          ],
          "name": "stdout"
        }
      ]
    }
  ]
}